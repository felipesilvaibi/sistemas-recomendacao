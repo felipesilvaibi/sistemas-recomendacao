{
  "cells": [
    {
      "cell_type": "markdown",
      "metadata": {
        "id": "stz0BLKXXc1o"
      },
      "source": [
        "### Importação das bibliotecas necessárias"
      ]
    },
    {
      "cell_type": "code",
      "execution_count": 27,
      "metadata": {
        "id": "XEjmkRAazhae"
      },
      "outputs": [],
      "source": [
        "import numpy as np\n",
        "import pandas as pd\n",
        "import matplotlib.pyplot as plt\n",
        "\n",
        "from surprise import KNNWithMeans\n",
        "from surprise import Dataset\n",
        "from surprise import Reader\n",
        "from surprise.model_selection import train_test_split\n",
        "\n",
        "from sklearn.decomposition import TruncatedSVD"
      ]
    },
    {
      "cell_type": "markdown",
      "metadata": {
        "id": "gsyMq19HXrWm"
      },
      "source": [
        "### Importação dos Raw Datasets"
      ]
    },
    {
      "cell_type": "code",
      "execution_count": 28,
      "metadata": {
        "id": "AiBZZw8PzWQM"
      },
      "outputs": [],
      "source": [
        "df1 = pd.read_csv('../data/order_items_dataset.csv', index_col=\"Unnamed: 0\")\n",
        "df2 = pd.read_csv('../data/order_reviews_dataset.csv', index_col=\"Unnamed: 0\")\n",
        "df3 = pd.read_csv('../data/orders_dataset.csv', index_col=\"Unnamed: 0\")\n",
        "df4 = pd.read_csv('../data/products_dataset.csv', index_col=\"Unnamed: 0\")\n"
      ]
    },
    {
      "cell_type": "markdown",
      "metadata": {
        "id": "VOe_XATUXwA8"
      },
      "source": [
        "### Análise EDA"
      ]
    },
    {
      "cell_type": "code",
      "execution_count": 29,
      "metadata": {
        "colab": {
          "base_uri": "https://localhost:8080/",
          "height": 81
        },
        "id": "DP5I-W5azcYA",
        "outputId": "326258b0-8a55-4a21-f962-846758f4d3a0"
      },
      "outputs": [
        {
          "data": {
            "text/html": [
              "<div>\n",
              "<style scoped>\n",
              "    .dataframe tbody tr th:only-of-type {\n",
              "        vertical-align: middle;\n",
              "    }\n",
              "\n",
              "    .dataframe tbody tr th {\n",
              "        vertical-align: top;\n",
              "    }\n",
              "\n",
              "    .dataframe thead th {\n",
              "        text-align: right;\n",
              "    }\n",
              "</style>\n",
              "<table border=\"1\" class=\"dataframe\">\n",
              "  <thead>\n",
              "    <tr style=\"text-align: right;\">\n",
              "      <th></th>\n",
              "      <th>order_id</th>\n",
              "      <th>order_item_id</th>\n",
              "      <th>product_id</th>\n",
              "      <th>price</th>\n",
              "    </tr>\n",
              "  </thead>\n",
              "  <tbody>\n",
              "    <tr>\n",
              "      <th>0</th>\n",
              "      <td>00010242fe8c5a6d1ba2dd792cb16214</td>\n",
              "      <td>1</td>\n",
              "      <td>4244733e06e7ecb4970a6e2683c13e61</td>\n",
              "      <td>58.9</td>\n",
              "    </tr>\n",
              "  </tbody>\n",
              "</table>\n",
              "</div>"
            ],
            "text/plain": [
              "                           order_id  order_item_id  \\\n",
              "0  00010242fe8c5a6d1ba2dd792cb16214              1   \n",
              "\n",
              "                         product_id  price  \n",
              "0  4244733e06e7ecb4970a6e2683c13e61   58.9  "
            ]
          },
          "execution_count": 29,
          "metadata": {},
          "output_type": "execute_result"
        }
      ],
      "source": [
        "df1.head(1)"
      ]
    },
    {
      "cell_type": "code",
      "execution_count": 30,
      "metadata": {
        "colab": {
          "base_uri": "https://localhost:8080/",
          "height": 81
        },
        "id": "fEv4H5CGz6CL",
        "outputId": "12e0b247-92d7-4d83-d159-b2a329c25067"
      },
      "outputs": [
        {
          "data": {
            "text/html": [
              "<div>\n",
              "<style scoped>\n",
              "    .dataframe tbody tr th:only-of-type {\n",
              "        vertical-align: middle;\n",
              "    }\n",
              "\n",
              "    .dataframe tbody tr th {\n",
              "        vertical-align: top;\n",
              "    }\n",
              "\n",
              "    .dataframe thead th {\n",
              "        text-align: right;\n",
              "    }\n",
              "</style>\n",
              "<table border=\"1\" class=\"dataframe\">\n",
              "  <thead>\n",
              "    <tr style=\"text-align: right;\">\n",
              "      <th></th>\n",
              "      <th>review_id</th>\n",
              "      <th>order_id</th>\n",
              "      <th>review_score</th>\n",
              "    </tr>\n",
              "  </thead>\n",
              "  <tbody>\n",
              "    <tr>\n",
              "      <th>0</th>\n",
              "      <td>7bc2406110b926393aa56f80a40eba40</td>\n",
              "      <td>73fc7af87114b39712e6da79b0a377eb</td>\n",
              "      <td>4</td>\n",
              "    </tr>\n",
              "  </tbody>\n",
              "</table>\n",
              "</div>"
            ],
            "text/plain": [
              "                          review_id                          order_id  \\\n",
              "0  7bc2406110b926393aa56f80a40eba40  73fc7af87114b39712e6da79b0a377eb   \n",
              "\n",
              "   review_score  \n",
              "0             4  "
            ]
          },
          "execution_count": 30,
          "metadata": {},
          "output_type": "execute_result"
        }
      ],
      "source": [
        "df2.head(1)"
      ]
    },
    {
      "cell_type": "code",
      "execution_count": 31,
      "metadata": {
        "colab": {
          "base_uri": "https://localhost:8080/",
          "height": 81
        },
        "id": "Kli_r2rIz7TV",
        "outputId": "12e2e4b9-f2ef-42c0-a34c-d830fb6ebd54"
      },
      "outputs": [
        {
          "data": {
            "text/html": [
              "<div>\n",
              "<style scoped>\n",
              "    .dataframe tbody tr th:only-of-type {\n",
              "        vertical-align: middle;\n",
              "    }\n",
              "\n",
              "    .dataframe tbody tr th {\n",
              "        vertical-align: top;\n",
              "    }\n",
              "\n",
              "    .dataframe thead th {\n",
              "        text-align: right;\n",
              "    }\n",
              "</style>\n",
              "<table border=\"1\" class=\"dataframe\">\n",
              "  <thead>\n",
              "    <tr style=\"text-align: right;\">\n",
              "      <th></th>\n",
              "      <th>order_id</th>\n",
              "      <th>customer_id</th>\n",
              "      <th>order_status</th>\n",
              "    </tr>\n",
              "  </thead>\n",
              "  <tbody>\n",
              "    <tr>\n",
              "      <th>0</th>\n",
              "      <td>e481f51cbdc54678b7cc49136f2d6af7</td>\n",
              "      <td>9ef432eb6251297304e76186b10a928d</td>\n",
              "      <td>delivered</td>\n",
              "    </tr>\n",
              "  </tbody>\n",
              "</table>\n",
              "</div>"
            ],
            "text/plain": [
              "                           order_id                       customer_id  \\\n",
              "0  e481f51cbdc54678b7cc49136f2d6af7  9ef432eb6251297304e76186b10a928d   \n",
              "\n",
              "  order_status  \n",
              "0    delivered  "
            ]
          },
          "execution_count": 31,
          "metadata": {},
          "output_type": "execute_result"
        }
      ],
      "source": [
        "df3.head(1)"
      ]
    },
    {
      "cell_type": "code",
      "execution_count": 32,
      "metadata": {
        "colab": {
          "base_uri": "https://localhost:8080/",
          "height": 81
        },
        "id": "Fii6_l86z7-V",
        "outputId": "314e4094-1e6b-433f-fa2f-b3949c448b50"
      },
      "outputs": [
        {
          "data": {
            "text/html": [
              "<div>\n",
              "<style scoped>\n",
              "    .dataframe tbody tr th:only-of-type {\n",
              "        vertical-align: middle;\n",
              "    }\n",
              "\n",
              "    .dataframe tbody tr th {\n",
              "        vertical-align: top;\n",
              "    }\n",
              "\n",
              "    .dataframe thead th {\n",
              "        text-align: right;\n",
              "    }\n",
              "</style>\n",
              "<table border=\"1\" class=\"dataframe\">\n",
              "  <thead>\n",
              "    <tr style=\"text-align: right;\">\n",
              "      <th></th>\n",
              "      <th>product_id</th>\n",
              "      <th>product_category_name</th>\n",
              "      <th>product_name_lenght</th>\n",
              "      <th>product_description_lenght</th>\n",
              "      <th>product_weight_g</th>\n",
              "      <th>product_length_cm</th>\n",
              "      <th>product_height_cm</th>\n",
              "      <th>product_width_cm</th>\n",
              "    </tr>\n",
              "  </thead>\n",
              "  <tbody>\n",
              "    <tr>\n",
              "      <th>0</th>\n",
              "      <td>1e9e8ef04dbcff4541ed26657ea517e5</td>\n",
              "      <td>perfumaria</td>\n",
              "      <td>40.0</td>\n",
              "      <td>287.0</td>\n",
              "      <td>225.0</td>\n",
              "      <td>16.0</td>\n",
              "      <td>10.0</td>\n",
              "      <td>14.0</td>\n",
              "    </tr>\n",
              "  </tbody>\n",
              "</table>\n",
              "</div>"
            ],
            "text/plain": [
              "                         product_id product_category_name  \\\n",
              "0  1e9e8ef04dbcff4541ed26657ea517e5            perfumaria   \n",
              "\n",
              "   product_name_lenght  product_description_lenght  product_weight_g  \\\n",
              "0                 40.0                       287.0             225.0   \n",
              "\n",
              "   product_length_cm  product_height_cm  product_width_cm  \n",
              "0               16.0               10.0              14.0  "
            ]
          },
          "execution_count": 32,
          "metadata": {},
          "output_type": "execute_result"
        }
      ],
      "source": [
        "df4.head(1)"
      ]
    },
    {
      "cell_type": "code",
      "execution_count": 33,
      "metadata": {
        "id": "7dW5GVLu0Oj3"
      },
      "outputs": [],
      "source": [
        "df_orders = pd.merge(df3, df2, on=\"order_id\")\n",
        "df_orders = pd.merge(df_orders, df1, on=\"order_id\")\n",
        "df_orders = pd.merge(df_orders, df4, on=\"product_id\")"
      ]
    },
    {
      "cell_type": "code",
      "execution_count": 34,
      "metadata": {
        "colab": {
          "base_uri": "https://localhost:8080/",
          "height": 270
        },
        "id": "F4yNwfcx1riF",
        "outputId": "af163939-83c6-4b4c-858a-f7ceb1515242"
      },
      "outputs": [
        {
          "data": {
            "text/html": [
              "<div>\n",
              "<style scoped>\n",
              "    .dataframe tbody tr th:only-of-type {\n",
              "        vertical-align: middle;\n",
              "    }\n",
              "\n",
              "    .dataframe tbody tr th {\n",
              "        vertical-align: top;\n",
              "    }\n",
              "\n",
              "    .dataframe thead th {\n",
              "        text-align: right;\n",
              "    }\n",
              "</style>\n",
              "<table border=\"1\" class=\"dataframe\">\n",
              "  <thead>\n",
              "    <tr style=\"text-align: right;\">\n",
              "      <th></th>\n",
              "      <th>order_id</th>\n",
              "      <th>customer_id</th>\n",
              "      <th>order_status</th>\n",
              "      <th>review_id</th>\n",
              "      <th>review_score</th>\n",
              "      <th>order_item_id</th>\n",
              "      <th>product_id</th>\n",
              "      <th>price</th>\n",
              "      <th>product_category_name</th>\n",
              "      <th>product_name_lenght</th>\n",
              "      <th>product_description_lenght</th>\n",
              "      <th>product_weight_g</th>\n",
              "      <th>product_length_cm</th>\n",
              "      <th>product_height_cm</th>\n",
              "      <th>product_width_cm</th>\n",
              "    </tr>\n",
              "  </thead>\n",
              "  <tbody>\n",
              "    <tr>\n",
              "      <th>0</th>\n",
              "      <td>e481f51cbdc54678b7cc49136f2d6af7</td>\n",
              "      <td>9ef432eb6251297304e76186b10a928d</td>\n",
              "      <td>delivered</td>\n",
              "      <td>a54f0611adc9ed256b57ede6b6eb5114</td>\n",
              "      <td>4</td>\n",
              "      <td>1</td>\n",
              "      <td>87285b34884572647811a353c7ac498a</td>\n",
              "      <td>29.99</td>\n",
              "      <td>utilidades_domesticas</td>\n",
              "      <td>40.0</td>\n",
              "      <td>268.0</td>\n",
              "      <td>500.0</td>\n",
              "      <td>19.0</td>\n",
              "      <td>8.0</td>\n",
              "      <td>13.0</td>\n",
              "    </tr>\n",
              "    <tr>\n",
              "      <th>1</th>\n",
              "      <td>128e10d95713541c87cd1a2e48201934</td>\n",
              "      <td>a20e8105f23924cd00833fd87daa0831</td>\n",
              "      <td>delivered</td>\n",
              "      <td>b46f1e34512b0f4c74a72398b03ca788</td>\n",
              "      <td>4</td>\n",
              "      <td>1</td>\n",
              "      <td>87285b34884572647811a353c7ac498a</td>\n",
              "      <td>29.99</td>\n",
              "      <td>utilidades_domesticas</td>\n",
              "      <td>40.0</td>\n",
              "      <td>268.0</td>\n",
              "      <td>500.0</td>\n",
              "      <td>19.0</td>\n",
              "      <td>8.0</td>\n",
              "      <td>13.0</td>\n",
              "    </tr>\n",
              "    <tr>\n",
              "      <th>2</th>\n",
              "      <td>0e7e841ddf8f8f2de2bad69267ecfbcf</td>\n",
              "      <td>26c7ac168e1433912a51b924fbd34d34</td>\n",
              "      <td>delivered</td>\n",
              "      <td>dc90f19c2806f1abba9e72ad3c350073</td>\n",
              "      <td>5</td>\n",
              "      <td>1</td>\n",
              "      <td>87285b34884572647811a353c7ac498a</td>\n",
              "      <td>29.99</td>\n",
              "      <td>utilidades_domesticas</td>\n",
              "      <td>40.0</td>\n",
              "      <td>268.0</td>\n",
              "      <td>500.0</td>\n",
              "      <td>19.0</td>\n",
              "      <td>8.0</td>\n",
              "      <td>13.0</td>\n",
              "    </tr>\n",
              "    <tr>\n",
              "      <th>3</th>\n",
              "      <td>bfc39df4f36c3693ff3b63fcbea9e90a</td>\n",
              "      <td>53904ddbea91e1e92b2b3f1d09a7af86</td>\n",
              "      <td>delivered</td>\n",
              "      <td>1bafb430e498b939f258b9c9dbdff9b1</td>\n",
              "      <td>3</td>\n",
              "      <td>1</td>\n",
              "      <td>87285b34884572647811a353c7ac498a</td>\n",
              "      <td>29.99</td>\n",
              "      <td>utilidades_domesticas</td>\n",
              "      <td>40.0</td>\n",
              "      <td>268.0</td>\n",
              "      <td>500.0</td>\n",
              "      <td>19.0</td>\n",
              "      <td>8.0</td>\n",
              "      <td>13.0</td>\n",
              "    </tr>\n",
              "    <tr>\n",
              "      <th>4</th>\n",
              "      <td>53cdb2fc8bc7dce0b6741e2150273451</td>\n",
              "      <td>b0830fb4747a6c6d20dea0b8c802d7ef</td>\n",
              "      <td>delivered</td>\n",
              "      <td>8d5266042046a06655c8db133d120ba5</td>\n",
              "      <td>4</td>\n",
              "      <td>1</td>\n",
              "      <td>595fac2a385ac33a80bd5114aec74eb8</td>\n",
              "      <td>118.70</td>\n",
              "      <td>perfumaria</td>\n",
              "      <td>29.0</td>\n",
              "      <td>178.0</td>\n",
              "      <td>400.0</td>\n",
              "      <td>19.0</td>\n",
              "      <td>13.0</td>\n",
              "      <td>19.0</td>\n",
              "    </tr>\n",
              "  </tbody>\n",
              "</table>\n",
              "</div>"
            ],
            "text/plain": [
              "                           order_id                       customer_id  \\\n",
              "0  e481f51cbdc54678b7cc49136f2d6af7  9ef432eb6251297304e76186b10a928d   \n",
              "1  128e10d95713541c87cd1a2e48201934  a20e8105f23924cd00833fd87daa0831   \n",
              "2  0e7e841ddf8f8f2de2bad69267ecfbcf  26c7ac168e1433912a51b924fbd34d34   \n",
              "3  bfc39df4f36c3693ff3b63fcbea9e90a  53904ddbea91e1e92b2b3f1d09a7af86   \n",
              "4  53cdb2fc8bc7dce0b6741e2150273451  b0830fb4747a6c6d20dea0b8c802d7ef   \n",
              "\n",
              "  order_status                         review_id  review_score  order_item_id  \\\n",
              "0    delivered  a54f0611adc9ed256b57ede6b6eb5114             4              1   \n",
              "1    delivered  b46f1e34512b0f4c74a72398b03ca788             4              1   \n",
              "2    delivered  dc90f19c2806f1abba9e72ad3c350073             5              1   \n",
              "3    delivered  1bafb430e498b939f258b9c9dbdff9b1             3              1   \n",
              "4    delivered  8d5266042046a06655c8db133d120ba5             4              1   \n",
              "\n",
              "                         product_id   price  product_category_name  \\\n",
              "0  87285b34884572647811a353c7ac498a   29.99  utilidades_domesticas   \n",
              "1  87285b34884572647811a353c7ac498a   29.99  utilidades_domesticas   \n",
              "2  87285b34884572647811a353c7ac498a   29.99  utilidades_domesticas   \n",
              "3  87285b34884572647811a353c7ac498a   29.99  utilidades_domesticas   \n",
              "4  595fac2a385ac33a80bd5114aec74eb8  118.70             perfumaria   \n",
              "\n",
              "   product_name_lenght  product_description_lenght  product_weight_g  \\\n",
              "0                 40.0                       268.0             500.0   \n",
              "1                 40.0                       268.0             500.0   \n",
              "2                 40.0                       268.0             500.0   \n",
              "3                 40.0                       268.0             500.0   \n",
              "4                 29.0                       178.0             400.0   \n",
              "\n",
              "   product_length_cm  product_height_cm  product_width_cm  \n",
              "0               19.0                8.0              13.0  \n",
              "1               19.0                8.0              13.0  \n",
              "2               19.0                8.0              13.0  \n",
              "3               19.0                8.0              13.0  \n",
              "4               19.0               13.0              19.0  "
            ]
          },
          "execution_count": 34,
          "metadata": {},
          "output_type": "execute_result"
        }
      ],
      "source": [
        "df_orders.head()"
      ]
    },
    {
      "cell_type": "code",
      "execution_count": 35,
      "metadata": {
        "colab": {
          "base_uri": "https://localhost:8080/",
          "height": 300
        },
        "id": "dmgmQM9dWY5i",
        "outputId": "1debcd39-8564-40c6-8c22-76a3ccbd2be8"
      },
      "outputs": [
        {
          "data": {
            "text/html": [
              "<div>\n",
              "<style scoped>\n",
              "    .dataframe tbody tr th:only-of-type {\n",
              "        vertical-align: middle;\n",
              "    }\n",
              "\n",
              "    .dataframe tbody tr th {\n",
              "        vertical-align: top;\n",
              "    }\n",
              "\n",
              "    .dataframe thead th {\n",
              "        text-align: right;\n",
              "    }\n",
              "</style>\n",
              "<table border=\"1\" class=\"dataframe\">\n",
              "  <thead>\n",
              "    <tr style=\"text-align: right;\">\n",
              "      <th></th>\n",
              "      <th>review_score</th>\n",
              "      <th>order_item_id</th>\n",
              "      <th>price</th>\n",
              "      <th>product_name_lenght</th>\n",
              "      <th>product_description_lenght</th>\n",
              "      <th>product_weight_g</th>\n",
              "      <th>product_length_cm</th>\n",
              "      <th>product_height_cm</th>\n",
              "      <th>product_width_cm</th>\n",
              "    </tr>\n",
              "  </thead>\n",
              "  <tbody>\n",
              "    <tr>\n",
              "      <th>count</th>\n",
              "      <td>112372.000000</td>\n",
              "      <td>112372.000000</td>\n",
              "      <td>112372.000000</td>\n",
              "      <td>110774.000000</td>\n",
              "      <td>110774.000000</td>\n",
              "      <td>112354.000000</td>\n",
              "      <td>112354.000000</td>\n",
              "      <td>112354.000000</td>\n",
              "      <td>112354.000000</td>\n",
              "    </tr>\n",
              "    <tr>\n",
              "      <th>mean</th>\n",
              "      <td>4.032473</td>\n",
              "      <td>1.196010</td>\n",
              "      <td>120.378962</td>\n",
              "      <td>48.777583</td>\n",
              "      <td>786.793932</td>\n",
              "      <td>2090.610882</td>\n",
              "      <td>30.152198</td>\n",
              "      <td>16.576811</td>\n",
              "      <td>23.001210</td>\n",
              "    </tr>\n",
              "    <tr>\n",
              "      <th>std</th>\n",
              "      <td>1.387849</td>\n",
              "      <td>0.691243</td>\n",
              "      <td>182.152386</td>\n",
              "      <td>10.025179</td>\n",
              "      <td>651.609498</td>\n",
              "      <td>3748.608093</td>\n",
              "      <td>16.139323</td>\n",
              "      <td>13.437792</td>\n",
              "      <td>11.707552</td>\n",
              "    </tr>\n",
              "    <tr>\n",
              "      <th>min</th>\n",
              "      <td>1.000000</td>\n",
              "      <td>1.000000</td>\n",
              "      <td>0.850000</td>\n",
              "      <td>5.000000</td>\n",
              "      <td>4.000000</td>\n",
              "      <td>0.000000</td>\n",
              "      <td>7.000000</td>\n",
              "      <td>2.000000</td>\n",
              "      <td>6.000000</td>\n",
              "    </tr>\n",
              "    <tr>\n",
              "      <th>25%</th>\n",
              "      <td>4.000000</td>\n",
              "      <td>1.000000</td>\n",
              "      <td>39.900000</td>\n",
              "      <td>42.000000</td>\n",
              "      <td>348.000000</td>\n",
              "      <td>300.000000</td>\n",
              "      <td>18.000000</td>\n",
              "      <td>8.000000</td>\n",
              "      <td>15.000000</td>\n",
              "    </tr>\n",
              "    <tr>\n",
              "      <th>50%</th>\n",
              "      <td>5.000000</td>\n",
              "      <td>1.000000</td>\n",
              "      <td>74.900000</td>\n",
              "      <td>52.000000</td>\n",
              "      <td>601.000000</td>\n",
              "      <td>700.000000</td>\n",
              "      <td>25.000000</td>\n",
              "      <td>13.000000</td>\n",
              "      <td>20.000000</td>\n",
              "    </tr>\n",
              "    <tr>\n",
              "      <th>75%</th>\n",
              "      <td>5.000000</td>\n",
              "      <td>1.000000</td>\n",
              "      <td>134.900000</td>\n",
              "      <td>57.000000</td>\n",
              "      <td>985.000000</td>\n",
              "      <td>1800.000000</td>\n",
              "      <td>38.000000</td>\n",
              "      <td>20.000000</td>\n",
              "      <td>30.000000</td>\n",
              "    </tr>\n",
              "    <tr>\n",
              "      <th>max</th>\n",
              "      <td>5.000000</td>\n",
              "      <td>21.000000</td>\n",
              "      <td>6735.000000</td>\n",
              "      <td>76.000000</td>\n",
              "      <td>3992.000000</td>\n",
              "      <td>40425.000000</td>\n",
              "      <td>105.000000</td>\n",
              "      <td>105.000000</td>\n",
              "      <td>118.000000</td>\n",
              "    </tr>\n",
              "  </tbody>\n",
              "</table>\n",
              "</div>"
            ],
            "text/plain": [
              "        review_score  order_item_id          price  product_name_lenght  \\\n",
              "count  112372.000000  112372.000000  112372.000000        110774.000000   \n",
              "mean        4.032473       1.196010     120.378962            48.777583   \n",
              "std         1.387849       0.691243     182.152386            10.025179   \n",
              "min         1.000000       1.000000       0.850000             5.000000   \n",
              "25%         4.000000       1.000000      39.900000            42.000000   \n",
              "50%         5.000000       1.000000      74.900000            52.000000   \n",
              "75%         5.000000       1.000000     134.900000            57.000000   \n",
              "max         5.000000      21.000000    6735.000000            76.000000   \n",
              "\n",
              "       product_description_lenght  product_weight_g  product_length_cm  \\\n",
              "count               110774.000000     112354.000000      112354.000000   \n",
              "mean                   786.793932       2090.610882          30.152198   \n",
              "std                    651.609498       3748.608093          16.139323   \n",
              "min                      4.000000          0.000000           7.000000   \n",
              "25%                    348.000000        300.000000          18.000000   \n",
              "50%                    601.000000        700.000000          25.000000   \n",
              "75%                    985.000000       1800.000000          38.000000   \n",
              "max                   3992.000000      40425.000000         105.000000   \n",
              "\n",
              "       product_height_cm  product_width_cm  \n",
              "count      112354.000000     112354.000000  \n",
              "mean           16.576811         23.001210  \n",
              "std            13.437792         11.707552  \n",
              "min             2.000000          6.000000  \n",
              "25%             8.000000         15.000000  \n",
              "50%            13.000000         20.000000  \n",
              "75%            20.000000         30.000000  \n",
              "max           105.000000        118.000000  "
            ]
          },
          "execution_count": 35,
          "metadata": {},
          "output_type": "execute_result"
        }
      ],
      "source": [
        "df_orders.describe()"
      ]
    },
    {
      "cell_type": "code",
      "execution_count": 36,
      "metadata": {
        "colab": {
          "base_uri": "https://localhost:8080/",
          "height": 649
        },
        "id": "kmYqX5uQ6zSv",
        "outputId": "2d955931-320d-4081-da49-2c9d058a2dc3"
      },
      "outputs": [
        {
          "data": {
            "image/png": "[encoded data removed]",
            "text/plain": [
              "<Figure size 960x640 with 9 Axes>"
            ]
          },
          "metadata": {
            "needs_background": "light"
          },
          "output_type": "display_data"
        }
      ],
      "source": [
        "n_cols = 3\n",
        "n_rows = 3\n",
        "fig, ax = plt.subplots(n_rows, n_cols, tight_layout=True, figsize=(12, 8), dpi=80)\n",
        "\n",
        "df_cols = df_orders.select_dtypes(include=np.number).columns\n",
        "\n",
        "i = 0\n",
        "for row in ax:\n",
        "  for col in row:\n",
        "    col.hist(df_orders[df_cols[i]], color = \"skyblue\")\n",
        "    col.set_title(df_cols[i])\n",
        "    col.axvline(df_orders[df_cols[i]].quantile(0.25), 0, 1, color='green')\n",
        "    col.axvline(df_orders[df_cols[i]].quantile(0.5), 0, 1, color='orange')\n",
        "    col.axvline(df_orders[df_cols[i]].quantile(0.75), 0, 1, color='red')\n",
        "    i += 1"
      ]
    },
    {
      "cell_type": "markdown",
      "metadata": {
        "id": "dwKearYuYGJh"
      },
      "source": [
        "> 1. (review_score) A grande maioria das recomendações são de pelo menos 4 estrelas\n",
        "2. (order_item_id) As compras geralmente possuem um item\n",
        "1. (price) A maior parte das compras são de produtos com valor menor que 100 reais\n",
        "2. (product_name_length) Os produtos mais comprados possuem entre 42 e 57 letras de nome\n",
        "3. (product_description_lenght) Os produtos mais comprados possuem entre 348 e 985 letras de descrição\n",
        "4. (product_weight_g) Os produtos mais comprados possuem entre 300 a 1800 g de peso\n",
        "5. (product_length_cm) Os produtos mais comprados possuem entre 18 e 38 cm de comprimento\n",
        "6. (product_height_cm) Os produtos mais comprados possuem entre 8 e 20 cm de altura\n",
        "7. (product_width_cm) Os produtos mais comprados possuem entre 15 e 30 cm de largura"
      ]
    },
    {
      "cell_type": "code",
      "execution_count": 37,
      "metadata": {
        "colab": {
          "base_uri": "https://localhost:8080/"
        },
        "id": "zhaezh0PK1hi",
        "outputId": "a3f2d951-c497-4c6f-8354-9dea11ab5025"
      },
      "outputs": [
        {
          "name": "stdout",
          "output_type": "stream",
          "text": [
            "0\n",
            "0\n",
            "0\n"
          ]
        }
      ],
      "source": [
        "print(df_orders['review_score'].isna().sum())\n",
        "print(df_orders['customer_id'].isna().sum())\n",
        "print(df_orders['product_id'].isna().sum())"
      ]
    },
    {
      "cell_type": "markdown",
      "metadata": {
        "id": "zHCkdS1QKZKv"
      },
      "source": [
        "> As colunas mais importantes para a implementação do modelo não possuem valores nulos"
      ]
    },
    {
      "cell_type": "markdown",
      "metadata": {
        "id": "u_CHbmB4Y5Lt"
      },
      "source": [
        "### Aplicação dos algorítimos de recomendação"
      ]
    },
    {
      "cell_type": "markdown",
      "metadata": {
        "id": "dbzruGUHNKqe"
      },
      "source": [
        "#### Recomendador baseado em popularidade"
      ]
    },
    {
      "cell_type": "markdown",
      "metadata": {
        "id": "ceKRa2tuPBEM"
      },
      "source": [
        "Criação de um subconjunto com produtos avaliados mais de 50 vezes. Este será o nosso limite"
      ]
    },
    {
      "cell_type": "code",
      "execution_count": 38,
      "metadata": {
        "colab": {
          "base_uri": "https://localhost:8080/",
          "height": 238
        },
        "id": "0EiibtUrNeRe",
        "outputId": "4f3559fa-c0b5-4b1a-ef15-24ae680c093a"
      },
      "outputs": [
        {
          "data": {
            "text/html": [
              "<div>\n",
              "<style scoped>\n",
              "    .dataframe tbody tr th:only-of-type {\n",
              "        vertical-align: middle;\n",
              "    }\n",
              "\n",
              "    .dataframe tbody tr th {\n",
              "        vertical-align: top;\n",
              "    }\n",
              "\n",
              "    .dataframe thead th {\n",
              "        text-align: right;\n",
              "    }\n",
              "</style>\n",
              "<table border=\"1\" class=\"dataframe\">\n",
              "  <thead>\n",
              "    <tr style=\"text-align: right;\">\n",
              "      <th></th>\n",
              "      <th>review_score</th>\n",
              "      <th>rating_counts</th>\n",
              "    </tr>\n",
              "    <tr>\n",
              "      <th>product_id</th>\n",
              "      <th></th>\n",
              "      <th></th>\n",
              "    </tr>\n",
              "  </thead>\n",
              "  <tbody>\n",
              "    <tr>\n",
              "      <th>aca2eb7d00ea1a7b8ebd4e68314663af</th>\n",
              "      <td>4.019084</td>\n",
              "      <td>524</td>\n",
              "    </tr>\n",
              "    <tr>\n",
              "      <th>422879e10f46682990de24d770e7f83d</th>\n",
              "      <td>3.946502</td>\n",
              "      <td>486</td>\n",
              "    </tr>\n",
              "    <tr>\n",
              "      <th>99a4788cb24856965c36a24e339b6058</th>\n",
              "      <td>3.898340</td>\n",
              "      <td>482</td>\n",
              "    </tr>\n",
              "    <tr>\n",
              "      <th>389d119b48cf3043d311335e499d9c6b</th>\n",
              "      <td>4.117647</td>\n",
              "      <td>391</td>\n",
              "    </tr>\n",
              "    <tr>\n",
              "      <th>368c6c730842d78016ad823897a372db</th>\n",
              "      <td>3.922680</td>\n",
              "      <td>388</td>\n",
              "    </tr>\n",
              "  </tbody>\n",
              "</table>\n",
              "</div>"
            ],
            "text/plain": [
              "                                  review_score  rating_counts\n",
              "product_id                                                   \n",
              "aca2eb7d00ea1a7b8ebd4e68314663af      4.019084            524\n",
              "422879e10f46682990de24d770e7f83d      3.946502            486\n",
              "99a4788cb24856965c36a24e339b6058      3.898340            482\n",
              "389d119b48cf3043d311335e499d9c6b      4.117647            391\n",
              "368c6c730842d78016ad823897a372db      3.922680            388"
            ]
          },
          "execution_count": 38,
          "metadata": {},
          "output_type": "execute_result"
        }
      ],
      "source": [
        "# Dataframe com produtos com mais de 50 avaliações\n",
        "new_df = df_orders.groupby(\"product_id\").filter(lambda x: x['review_score'].count() >= 50)\n",
        "\n",
        "# # Criação de um novo DataFrame com classificação média e número de classificações por produto\n",
        "scores_df = pd.DataFrame(new_df.groupby('product_id').review_score.mean())\n",
        "\n",
        "# # Adicionando coluna com número de avaliações por produto\n",
        "scores_df['rating_counts'] = new_df.groupby('product_id').review_score.count()\n",
        "\n",
        "# # Visualização dos 5 produtos mais bem avaliados (número de avaliações)\n",
        "scores_df.sort_values(by = 'rating_counts', ascending = False).head(5)"
      ]
    },
    {
      "cell_type": "markdown",
      "metadata": {
        "id": "IFYfWc-xQrhO"
      },
      "source": [
        "Em seguida, definiremos uma função para calcular uma média ponderada que pega o número total de votos e o limite (50) e o multiplica pela média global e pela média do produto. A fórmula é: (v / (v + m) * R) + (m / (m + v) * C)\n",
        "\n",
        "- (v) votos do produto;\n",
        "- (m) votos mínimos GERAL;\n",
        "\n",
        "- (R) avaliação média do produto;\n",
        "- (C) avaliação GERAL de produtos"
      ]
    },
    {
      "cell_type": "code",
      "execution_count": 39,
      "metadata": {
        "colab": {
          "base_uri": "https://localhost:8080/",
          "height": 551
        },
        "id": "ySiFONTpOin-",
        "outputId": "682f71cd-fcae-404f-9329-44d0488ae584"
      },
      "outputs": [
        {
          "data": {
            "text/html": [
              "<div>\n",
              "<style scoped>\n",
              "    .dataframe tbody tr th:only-of-type {\n",
              "        vertical-align: middle;\n",
              "    }\n",
              "\n",
              "    .dataframe tbody tr th {\n",
              "        vertical-align: top;\n",
              "    }\n",
              "\n",
              "    .dataframe thead th {\n",
              "        text-align: right;\n",
              "    }\n",
              "</style>\n",
              "<table border=\"1\" class=\"dataframe\">\n",
              "  <thead>\n",
              "    <tr style=\"text-align: right;\">\n",
              "      <th></th>\n",
              "      <th>review_score</th>\n",
              "      <th>rating_counts</th>\n",
              "      <th>score</th>\n",
              "    </tr>\n",
              "    <tr>\n",
              "      <th>product_id</th>\n",
              "      <th></th>\n",
              "      <th></th>\n",
              "      <th></th>\n",
              "    </tr>\n",
              "  </thead>\n",
              "  <tbody>\n",
              "    <tr>\n",
              "      <th>73326828aa5efe1ba096223de496f596</th>\n",
              "      <td>4.833333</td>\n",
              "      <td>54</td>\n",
              "      <td>4.450744</td>\n",
              "    </tr>\n",
              "    <tr>\n",
              "      <th>6a8631b72a2f8729b91514db87e771c0</th>\n",
              "      <td>4.709677</td>\n",
              "      <td>62</td>\n",
              "      <td>4.409619</td>\n",
              "    </tr>\n",
              "    <tr>\n",
              "      <th>e0cf79767c5b016251fe139915c59a26</th>\n",
              "      <td>4.477941</td>\n",
              "      <td>136</td>\n",
              "      <td>4.359556</td>\n",
              "    </tr>\n",
              "    <tr>\n",
              "      <th>fbc1488c1a1e72ba175f53ab29a248e8</th>\n",
              "      <td>4.620690</td>\n",
              "      <td>58</td>\n",
              "      <td>4.350716</td>\n",
              "    </tr>\n",
              "    <tr>\n",
              "      <th>629e019a6f298a83aeecc7877964f935</th>\n",
              "      <td>4.561644</td>\n",
              "      <td>73</td>\n",
              "      <td>4.348596</td>\n",
              "    </tr>\n",
              "    <tr>\n",
              "      <th>5f504b3a1c75b73d6151be81eb05bdc9</th>\n",
              "      <td>4.555556</td>\n",
              "      <td>63</td>\n",
              "      <td>4.326348</td>\n",
              "    </tr>\n",
              "    <tr>\n",
              "      <th>f7a17d2c51d9df89a4f1711c4ac17f33</th>\n",
              "      <td>4.546875</td>\n",
              "      <td>64</td>\n",
              "      <td>4.323486</td>\n",
              "    </tr>\n",
              "    <tr>\n",
              "      <th>363218ba55c610b750224f90bdd34be1</th>\n",
              "      <td>4.465116</td>\n",
              "      <td>86</td>\n",
              "      <td>4.307922</td>\n",
              "    </tr>\n",
              "    <tr>\n",
              "      <th>d696750e550fd0f733979dd7e5dff921</th>\n",
              "      <td>4.526316</td>\n",
              "      <td>57</td>\n",
              "      <td>4.297919</td>\n",
              "    </tr>\n",
              "    <tr>\n",
              "      <th>130482add9fd75ccb6c57ba007694a2d</th>\n",
              "      <td>4.538462</td>\n",
              "      <td>52</td>\n",
              "      <td>4.292915</td>\n",
              "    </tr>\n",
              "    <tr>\n",
              "      <th>ed2067a9c1f79553088a3c67b99a9f97</th>\n",
              "      <td>4.538462</td>\n",
              "      <td>52</td>\n",
              "      <td>4.292915</td>\n",
              "    </tr>\n",
              "    <tr>\n",
              "      <th>f1c7f353075ce59d8a6f3cf58f419c9c</th>\n",
              "      <td>4.375000</td>\n",
              "      <td>152</td>\n",
              "      <td>4.291472</td>\n",
              "    </tr>\n",
              "    <tr>\n",
              "      <th>595fac2a385ac33a80bd5114aec74eb8</th>\n",
              "      <td>4.405660</td>\n",
              "      <td>106</td>\n",
              "      <td>4.287675</td>\n",
              "    </tr>\n",
              "    <tr>\n",
              "      <th>5411e9269501a870cabf632f05655131</th>\n",
              "      <td>4.440000</td>\n",
              "      <td>75</td>\n",
              "      <td>4.279019</td>\n",
              "    </tr>\n",
              "    <tr>\n",
              "      <th>154e7e31ebfa092203795c972e5804a6</th>\n",
              "      <td>4.315068</td>\n",
              "      <td>292</td>\n",
              "      <td>4.274495</td>\n",
              "    </tr>\n",
              "  </tbody>\n",
              "</table>\n",
              "</div>"
            ],
            "text/plain": [
              "                                  review_score  rating_counts     score\n",
              "product_id                                                             \n",
              "73326828aa5efe1ba096223de496f596      4.833333             54  4.450744\n",
              "6a8631b72a2f8729b91514db87e771c0      4.709677             62  4.409619\n",
              "e0cf79767c5b016251fe139915c59a26      4.477941            136  4.359556\n",
              "fbc1488c1a1e72ba175f53ab29a248e8      4.620690             58  4.350716\n",
              "629e019a6f298a83aeecc7877964f935      4.561644             73  4.348596\n",
              "5f504b3a1c75b73d6151be81eb05bdc9      4.555556             63  4.326348\n",
              "f7a17d2c51d9df89a4f1711c4ac17f33      4.546875             64  4.323486\n",
              "363218ba55c610b750224f90bdd34be1      4.465116             86  4.307922\n",
              "d696750e550fd0f733979dd7e5dff921      4.526316             57  4.297919\n",
              "130482add9fd75ccb6c57ba007694a2d      4.538462             52  4.292915\n",
              "ed2067a9c1f79553088a3c67b99a9f97      4.538462             52  4.292915\n",
              "f1c7f353075ce59d8a6f3cf58f419c9c      4.375000            152  4.291472\n",
              "595fac2a385ac33a80bd5114aec74eb8      4.405660            106  4.287675\n",
              "5411e9269501a870cabf632f05655131      4.440000             75  4.279019\n",
              "154e7e31ebfa092203795c972e5804a6      4.315068            292  4.274495"
            ]
          },
          "execution_count": 39,
          "metadata": {},
          "output_type": "execute_result"
        }
      ],
      "source": [
        "# Média Global das review_score\n",
        "C = scores_df['review_score'].mean()\n",
        "\n",
        "# Limite mínimo para ser elegível ao ranking\n",
        "m = scores_df.rating_counts.min()\n",
        "\n",
        "# Função que calcula a média ponderada de cada item\n",
        "def weighted_rating (x, m = m, C = C):\n",
        "  v = x['rating_counts']\n",
        "  R = x['review_score']\n",
        "  # Calcula média ponderada\n",
        "  return (v/(v+m) * R) + (m/(v+m) * C)\n",
        "\n",
        "# Adiciona a 'pontuação' calculada com weighted_rating() ao dataframe\n",
        "scores_df['score'] = scores_df.apply(weighted_rating, axis=1)\n",
        "\n",
        "# Resultado final com os 15 produtos mais populares\n",
        "scores_df.sort_values(by='score', ascending=False).head(15)"
      ]
    },
    {
      "cell_type": "markdown",
      "metadata": {
        "id": "rST_esZYNR20"
      },
      "source": [
        "#### Filtragem colaborativa (recomendação item-item)"
      ]
    },
    {
      "cell_type": "code",
      "execution_count": 40,
      "metadata": {
        "colab": {
          "base_uri": "https://localhost:8080/"
        },
        "id": "xeTRRphQSAe_",
        "outputId": "1f68a66c-398d-47d1-a45c-a757b7ddcac6"
      },
      "outputs": [
        {
          "name": "stdout",
          "output_type": "stream",
          "text": [
            "Computing the msd similarity matrix...\n",
            "Done computing similarity matrix.\n"
          ]
        }
      ],
      "source": [
        "# Lendo o dataset\n",
        "reader = Reader(rating_scale=(1, 5))\n",
        "data = Dataset.load_from_df(new_df[['customer_id', 'product_id', 'review_score']], reader)\n",
        "\n",
        "# Split dos dados\n",
        "trainset, testset = train_test_split(data, test_size=0.3, random_state=10)\n",
        "\n",
        "# Criação de um modelo baseado em item (user_based true / false para alternar entre filtragem colaborativa baseada em usuário ou baseada em item)\n",
        "algo = KNNWithMeans(k=5, sim_options={'user_based': False})\n",
        "algo.fit(trainset)\n",
        "\n",
        "# Teste do modelo\n",
        "test_pred = algo.test(testset)"
      ]
    },
    {
      "cell_type": "code",
      "execution_count": 41,
      "metadata": {
        "colab": {
          "base_uri": "https://localhost:8080/"
        },
        "id": "d1kMt9mgSEW5",
        "outputId": "1ff98107-872a-48d3-b0df-92ffadb2bcc6"
      },
      "outputs": [
        {
          "data": {
            "text/plain": [
              "[41, 78, 82, 3, 59, 0, 2, 4, 5, 6]"
            ]
          },
          "execution_count": 41,
          "metadata": {},
          "output_type": "execute_result"
        }
      ],
      "source": [
        "algo.get_neighbors(1, 10)"
      ]
    },
    {
      "cell_type": "code",
      "execution_count": 42,
      "metadata": {
        "colab": {
          "base_uri": "https://localhost:8080/"
        },
        "id": "vd6WlJ6JSDE-",
        "outputId": "f3ca6dbd-ad4a-4212-a907-7651d9054e9c"
      },
      "outputs": [
        {
          "data": {
            "text/plain": [
              "Index(['3fbc0ef745950c7932d5f2a446189725', '703d742887bb9267f89b675608ba7aa0',\n",
              "       '777d2e438a1b645f3aec9bd57e92672c', '06edb72f1e0c64b14c5b79353f7abea3',\n",
              "       '53759a2ecddad2bb87a079a1f1519f73', '0152f69b6cf919bcdaf117aa8c43e5a2',\n",
              "       '06c6e01186af8b98ee1fc9e01f9471e9', '08574b074924071f4e201e151b152b4e',\n",
              "       '0a57f7d2c983bcf8188589a5fea4a8da', '0aabfb375647d9738ad0f7b4ea3653b1'],\n",
              "      dtype='object', name='product_id')"
            ]
          },
          "execution_count": 42,
          "metadata": {},
          "output_type": "execute_result"
        }
      ],
      "source": [
        "# buscando os ID dos produtos recomendados com base no produto selecionado \n",
        "scores_df.iloc[[41, 78, 82, 3, 59, 0, 2, 4, 5, 6]].index"
      ]
    },
    {
      "cell_type": "markdown",
      "metadata": {
        "id": "ofUT2QwaNVIK"
      },
      "source": [
        "#### Sistema de fatoração de matriz (algoritmo SVD)"
      ]
    },
    {
      "cell_type": "markdown",
      "metadata": {
        "id": "gQtQWhsMP2S2"
      },
      "source": [
        "Levando em consideração customer_id e product_id (utilizando o review_score para validar correlação com base na avaliação do cliente)"
      ]
    },
    {
      "cell_type": "code",
      "execution_count": 43,
      "metadata": {
        "colab": {
          "base_uri": "https://localhost:8080/",
          "height": 331
        },
        "id": "CYzgf7naH_Ax",
        "outputId": "172b19ea-b99f-4f10-8c89-9e9296a40caa"
      },
      "outputs": [
        {
          "data": {
            "text/html": [
              "<div>\n",
              "<style scoped>\n",
              "    .dataframe tbody tr th:only-of-type {\n",
              "        vertical-align: middle;\n",
              "    }\n",
              "\n",
              "    .dataframe tbody tr th {\n",
              "        vertical-align: top;\n",
              "    }\n",
              "\n",
              "    .dataframe thead th {\n",
              "        text-align: right;\n",
              "    }\n",
              "</style>\n",
              "<table border=\"1\" class=\"dataframe\">\n",
              "  <thead>\n",
              "    <tr style=\"text-align: right;\">\n",
              "      <th>customer_id</th>\n",
              "      <th>00066ccbe787a588c52bd5ff404590e3</th>\n",
              "      <th>000e943451fc2788ca6ac98a682f2f49</th>\n",
              "      <th>000fd45d6fedae68fc6676036610f879</th>\n",
              "      <th>001028b78fd413e19704b3867c369d3a</th>\n",
              "      <th>0015f7887e2fde13ddaa7b8e385af919</th>\n",
              "      <th>0017a0b4c1f1bdb9c395fa0ac517109c</th>\n",
              "      <th>0019c9aaad15b043c48f0a1180f22ce8</th>\n",
              "      <th>002d358e2462f87678443706cbf2eb21</th>\n",
              "      <th>003bdf7fd8312f9d14a4b979f3747334</th>\n",
              "      <th>00426311a53f3c052943c88b692a3be2</th>\n",
              "      <th>...</th>\n",
              "      <th>ffcbcec4480d074ffd50398e66bff27c</th>\n",
              "      <th>ffd940dedc35e4f459eddfa41291e824</th>\n",
              "      <th>ffdaaad4323306777060ca43b3f87e7f</th>\n",
              "      <th>ffdd80d8f3655192a9d2a38d5b18732c</th>\n",
              "      <th>ffde64401f7cb62d2e8696d9467c781d</th>\n",
              "      <th>ffe1eab23bff108bf37c973b05d4e9ba</th>\n",
              "      <th>ffeaa6d37b3691d54a01171f6562f44f</th>\n",
              "      <th>ffed5d4f6245fe13cd57054621eec36a</th>\n",
              "      <th>fff212062d600f2e1d53f3c5d4a25138</th>\n",
              "      <th>fffb97495f78be80e2759335275df2aa</th>\n",
              "    </tr>\n",
              "    <tr>\n",
              "      <th>product_id</th>\n",
              "      <th></th>\n",
              "      <th></th>\n",
              "      <th></th>\n",
              "      <th></th>\n",
              "      <th></th>\n",
              "      <th></th>\n",
              "      <th></th>\n",
              "      <th></th>\n",
              "      <th></th>\n",
              "      <th></th>\n",
              "      <th></th>\n",
              "      <th></th>\n",
              "      <th></th>\n",
              "      <th></th>\n",
              "      <th></th>\n",
              "      <th></th>\n",
              "      <th></th>\n",
              "      <th></th>\n",
              "      <th></th>\n",
              "      <th></th>\n",
              "      <th></th>\n",
              "    </tr>\n",
              "  </thead>\n",
              "  <tbody>\n",
              "    <tr>\n",
              "      <th>0152f69b6cf919bcdaf117aa8c43e5a2</th>\n",
              "      <td>0.0</td>\n",
              "      <td>0.0</td>\n",
              "      <td>0.0</td>\n",
              "      <td>0.0</td>\n",
              "      <td>0.0</td>\n",
              "      <td>0.0</td>\n",
              "      <td>0.0</td>\n",
              "      <td>0.0</td>\n",
              "      <td>0.0</td>\n",
              "      <td>0.0</td>\n",
              "      <td>...</td>\n",
              "      <td>0.0</td>\n",
              "      <td>0.0</td>\n",
              "      <td>0.0</td>\n",
              "      <td>0.0</td>\n",
              "      <td>0.0</td>\n",
              "      <td>0.0</td>\n",
              "      <td>0.0</td>\n",
              "      <td>0.0</td>\n",
              "      <td>0.0</td>\n",
              "      <td>0.0</td>\n",
              "    </tr>\n",
              "    <tr>\n",
              "      <th>054515fd15bc1a2029f10de97ffa9120</th>\n",
              "      <td>0.0</td>\n",
              "      <td>0.0</td>\n",
              "      <td>0.0</td>\n",
              "      <td>0.0</td>\n",
              "      <td>0.0</td>\n",
              "      <td>0.0</td>\n",
              "      <td>0.0</td>\n",
              "      <td>0.0</td>\n",
              "      <td>0.0</td>\n",
              "      <td>0.0</td>\n",
              "      <td>...</td>\n",
              "      <td>0.0</td>\n",
              "      <td>0.0</td>\n",
              "      <td>0.0</td>\n",
              "      <td>0.0</td>\n",
              "      <td>0.0</td>\n",
              "      <td>0.0</td>\n",
              "      <td>0.0</td>\n",
              "      <td>0.0</td>\n",
              "      <td>0.0</td>\n",
              "      <td>0.0</td>\n",
              "    </tr>\n",
              "    <tr>\n",
              "      <th>06c6e01186af8b98ee1fc9e01f9471e9</th>\n",
              "      <td>0.0</td>\n",
              "      <td>0.0</td>\n",
              "      <td>0.0</td>\n",
              "      <td>0.0</td>\n",
              "      <td>0.0</td>\n",
              "      <td>0.0</td>\n",
              "      <td>0.0</td>\n",
              "      <td>0.0</td>\n",
              "      <td>0.0</td>\n",
              "      <td>0.0</td>\n",
              "      <td>...</td>\n",
              "      <td>0.0</td>\n",
              "      <td>0.0</td>\n",
              "      <td>0.0</td>\n",
              "      <td>0.0</td>\n",
              "      <td>0.0</td>\n",
              "      <td>0.0</td>\n",
              "      <td>0.0</td>\n",
              "      <td>0.0</td>\n",
              "      <td>0.0</td>\n",
              "      <td>0.0</td>\n",
              "    </tr>\n",
              "    <tr>\n",
              "      <th>06edb72f1e0c64b14c5b79353f7abea3</th>\n",
              "      <td>0.0</td>\n",
              "      <td>0.0</td>\n",
              "      <td>0.0</td>\n",
              "      <td>0.0</td>\n",
              "      <td>0.0</td>\n",
              "      <td>0.0</td>\n",
              "      <td>0.0</td>\n",
              "      <td>0.0</td>\n",
              "      <td>0.0</td>\n",
              "      <td>0.0</td>\n",
              "      <td>...</td>\n",
              "      <td>0.0</td>\n",
              "      <td>0.0</td>\n",
              "      <td>0.0</td>\n",
              "      <td>0.0</td>\n",
              "      <td>0.0</td>\n",
              "      <td>0.0</td>\n",
              "      <td>0.0</td>\n",
              "      <td>0.0</td>\n",
              "      <td>0.0</td>\n",
              "      <td>0.0</td>\n",
              "    </tr>\n",
              "    <tr>\n",
              "      <th>08574b074924071f4e201e151b152b4e</th>\n",
              "      <td>0.0</td>\n",
              "      <td>0.0</td>\n",
              "      <td>0.0</td>\n",
              "      <td>0.0</td>\n",
              "      <td>0.0</td>\n",
              "      <td>0.0</td>\n",
              "      <td>0.0</td>\n",
              "      <td>0.0</td>\n",
              "      <td>0.0</td>\n",
              "      <td>0.0</td>\n",
              "      <td>...</td>\n",
              "      <td>0.0</td>\n",
              "      <td>0.0</td>\n",
              "      <td>0.0</td>\n",
              "      <td>0.0</td>\n",
              "      <td>0.0</td>\n",
              "      <td>0.0</td>\n",
              "      <td>0.0</td>\n",
              "      <td>0.0</td>\n",
              "      <td>0.0</td>\n",
              "      <td>0.0</td>\n",
              "    </tr>\n",
              "  </tbody>\n",
              "</table>\n",
              "<p>5 rows × 16474 columns</p>\n",
              "</div>"
            ],
            "text/plain": [
              "customer_id                       00066ccbe787a588c52bd5ff404590e3  \\\n",
              "product_id                                                           \n",
              "0152f69b6cf919bcdaf117aa8c43e5a2                               0.0   \n",
              "054515fd15bc1a2029f10de97ffa9120                               0.0   \n",
              "06c6e01186af8b98ee1fc9e01f9471e9                               0.0   \n",
              "06edb72f1e0c64b14c5b79353f7abea3                               0.0   \n",
              "08574b074924071f4e201e151b152b4e                               0.0   \n",
              "\n",
              "customer_id                       000e943451fc2788ca6ac98a682f2f49  \\\n",
              "product_id                                                           \n",
              "0152f69b6cf919bcdaf117aa8c43e5a2                               0.0   \n",
              "054515fd15bc1a2029f10de97ffa9120                               0.0   \n",
              "06c6e01186af8b98ee1fc9e01f9471e9                               0.0   \n",
              "06edb72f1e0c64b14c5b79353f7abea3                               0.0   \n",
              "08574b074924071f4e201e151b152b4e                               0.0   \n",
              "\n",
              "customer_id                       000fd45d6fedae68fc6676036610f879  \\\n",
              "product_id                                                           \n",
              "0152f69b6cf919bcdaf117aa8c43e5a2                               0.0   \n",
              "054515fd15bc1a2029f10de97ffa9120                               0.0   \n",
              "06c6e01186af8b98ee1fc9e01f9471e9                               0.0   \n",
              "06edb72f1e0c64b14c5b79353f7abea3                               0.0   \n",
              "08574b074924071f4e201e151b152b4e                               0.0   \n",
              "\n",
              "customer_id                       001028b78fd413e19704b3867c369d3a  \\\n",
              "product_id                                                           \n",
              "0152f69b6cf919bcdaf117aa8c43e5a2                               0.0   \n",
              "054515fd15bc1a2029f10de97ffa9120                               0.0   \n",
              "06c6e01186af8b98ee1fc9e01f9471e9                               0.0   \n",
              "06edb72f1e0c64b14c5b79353f7abea3                               0.0   \n",
              "08574b074924071f4e201e151b152b4e                               0.0   \n",
              "\n",
              "customer_id                       0015f7887e2fde13ddaa7b8e385af919  \\\n",
              "product_id                                                           \n",
              "0152f69b6cf919bcdaf117aa8c43e5a2                               0.0   \n",
              "054515fd15bc1a2029f10de97ffa9120                               0.0   \n",
              "06c6e01186af8b98ee1fc9e01f9471e9                               0.0   \n",
              "06edb72f1e0c64b14c5b79353f7abea3                               0.0   \n",
              "08574b074924071f4e201e151b152b4e                               0.0   \n",
              "\n",
              "customer_id                       0017a0b4c1f1bdb9c395fa0ac517109c  \\\n",
              "product_id                                                           \n",
              "0152f69b6cf919bcdaf117aa8c43e5a2                               0.0   \n",
              "054515fd15bc1a2029f10de97ffa9120                               0.0   \n",
              "06c6e01186af8b98ee1fc9e01f9471e9                               0.0   \n",
              "06edb72f1e0c64b14c5b79353f7abea3                               0.0   \n",
              "08574b074924071f4e201e151b152b4e                               0.0   \n",
              "\n",
              "customer_id                       0019c9aaad15b043c48f0a1180f22ce8  \\\n",
              "product_id                                                           \n",
              "0152f69b6cf919bcdaf117aa8c43e5a2                               0.0   \n",
              "054515fd15bc1a2029f10de97ffa9120                               0.0   \n",
              "06c6e01186af8b98ee1fc9e01f9471e9                               0.0   \n",
              "06edb72f1e0c64b14c5b79353f7abea3                               0.0   \n",
              "08574b074924071f4e201e151b152b4e                               0.0   \n",
              "\n",
              "customer_id                       002d358e2462f87678443706cbf2eb21  \\\n",
              "product_id                                                           \n",
              "0152f69b6cf919bcdaf117aa8c43e5a2                               0.0   \n",
              "054515fd15bc1a2029f10de97ffa9120                               0.0   \n",
              "06c6e01186af8b98ee1fc9e01f9471e9                               0.0   \n",
              "06edb72f1e0c64b14c5b79353f7abea3                               0.0   \n",
              "08574b074924071f4e201e151b152b4e                               0.0   \n",
              "\n",
              "customer_id                       003bdf7fd8312f9d14a4b979f3747334  \\\n",
              "product_id                                                           \n",
              "0152f69b6cf919bcdaf117aa8c43e5a2                               0.0   \n",
              "054515fd15bc1a2029f10de97ffa9120                               0.0   \n",
              "06c6e01186af8b98ee1fc9e01f9471e9                               0.0   \n",
              "06edb72f1e0c64b14c5b79353f7abea3                               0.0   \n",
              "08574b074924071f4e201e151b152b4e                               0.0   \n",
              "\n",
              "customer_id                       00426311a53f3c052943c88b692a3be2  ...  \\\n",
              "product_id                                                          ...   \n",
              "0152f69b6cf919bcdaf117aa8c43e5a2                               0.0  ...   \n",
              "054515fd15bc1a2029f10de97ffa9120                               0.0  ...   \n",
              "06c6e01186af8b98ee1fc9e01f9471e9                               0.0  ...   \n",
              "06edb72f1e0c64b14c5b79353f7abea3                               0.0  ...   \n",
              "08574b074924071f4e201e151b152b4e                               0.0  ...   \n",
              "\n",
              "customer_id                       ffcbcec4480d074ffd50398e66bff27c  \\\n",
              "product_id                                                           \n",
              "0152f69b6cf919bcdaf117aa8c43e5a2                               0.0   \n",
              "054515fd15bc1a2029f10de97ffa9120                               0.0   \n",
              "06c6e01186af8b98ee1fc9e01f9471e9                               0.0   \n",
              "06edb72f1e0c64b14c5b79353f7abea3                               0.0   \n",
              "08574b074924071f4e201e151b152b4e                               0.0   \n",
              "\n",
              "customer_id                       ffd940dedc35e4f459eddfa41291e824  \\\n",
              "product_id                                                           \n",
              "0152f69b6cf919bcdaf117aa8c43e5a2                               0.0   \n",
              "054515fd15bc1a2029f10de97ffa9120                               0.0   \n",
              "06c6e01186af8b98ee1fc9e01f9471e9                               0.0   \n",
              "06edb72f1e0c64b14c5b79353f7abea3                               0.0   \n",
              "08574b074924071f4e201e151b152b4e                               0.0   \n",
              "\n",
              "customer_id                       ffdaaad4323306777060ca43b3f87e7f  \\\n",
              "product_id                                                           \n",
              "0152f69b6cf919bcdaf117aa8c43e5a2                               0.0   \n",
              "054515fd15bc1a2029f10de97ffa9120                               0.0   \n",
              "06c6e01186af8b98ee1fc9e01f9471e9                               0.0   \n",
              "06edb72f1e0c64b14c5b79353f7abea3                               0.0   \n",
              "08574b074924071f4e201e151b152b4e                               0.0   \n",
              "\n",
              "customer_id                       ffdd80d8f3655192a9d2a38d5b18732c  \\\n",
              "product_id                                                           \n",
              "0152f69b6cf919bcdaf117aa8c43e5a2                               0.0   \n",
              "054515fd15bc1a2029f10de97ffa9120                               0.0   \n",
              "06c6e01186af8b98ee1fc9e01f9471e9                               0.0   \n",
              "06edb72f1e0c64b14c5b79353f7abea3                               0.0   \n",
              "08574b074924071f4e201e151b152b4e                               0.0   \n",
              "\n",
              "customer_id                       ffde64401f7cb62d2e8696d9467c781d  \\\n",
              "product_id                                                           \n",
              "0152f69b6cf919bcdaf117aa8c43e5a2                               0.0   \n",
              "054515fd15bc1a2029f10de97ffa9120                               0.0   \n",
              "06c6e01186af8b98ee1fc9e01f9471e9                               0.0   \n",
              "06edb72f1e0c64b14c5b79353f7abea3                               0.0   \n",
              "08574b074924071f4e201e151b152b4e                               0.0   \n",
              "\n",
              "customer_id                       ffe1eab23bff108bf37c973b05d4e9ba  \\\n",
              "product_id                                                           \n",
              "0152f69b6cf919bcdaf117aa8c43e5a2                               0.0   \n",
              "054515fd15bc1a2029f10de97ffa9120                               0.0   \n",
              "06c6e01186af8b98ee1fc9e01f9471e9                               0.0   \n",
              "06edb72f1e0c64b14c5b79353f7abea3                               0.0   \n",
              "08574b074924071f4e201e151b152b4e                               0.0   \n",
              "\n",
              "customer_id                       ffeaa6d37b3691d54a01171f6562f44f  \\\n",
              "product_id                                                           \n",
              "0152f69b6cf919bcdaf117aa8c43e5a2                               0.0   \n",
              "054515fd15bc1a2029f10de97ffa9120                               0.0   \n",
              "06c6e01186af8b98ee1fc9e01f9471e9                               0.0   \n",
              "06edb72f1e0c64b14c5b79353f7abea3                               0.0   \n",
              "08574b074924071f4e201e151b152b4e                               0.0   \n",
              "\n",
              "customer_id                       ffed5d4f6245fe13cd57054621eec36a  \\\n",
              "product_id                                                           \n",
              "0152f69b6cf919bcdaf117aa8c43e5a2                               0.0   \n",
              "054515fd15bc1a2029f10de97ffa9120                               0.0   \n",
              "06c6e01186af8b98ee1fc9e01f9471e9                               0.0   \n",
              "06edb72f1e0c64b14c5b79353f7abea3                               0.0   \n",
              "08574b074924071f4e201e151b152b4e                               0.0   \n",
              "\n",
              "customer_id                       fff212062d600f2e1d53f3c5d4a25138  \\\n",
              "product_id                                                           \n",
              "0152f69b6cf919bcdaf117aa8c43e5a2                               0.0   \n",
              "054515fd15bc1a2029f10de97ffa9120                               0.0   \n",
              "06c6e01186af8b98ee1fc9e01f9471e9                               0.0   \n",
              "06edb72f1e0c64b14c5b79353f7abea3                               0.0   \n",
              "08574b074924071f4e201e151b152b4e                               0.0   \n",
              "\n",
              "customer_id                       fffb97495f78be80e2759335275df2aa  \n",
              "product_id                                                          \n",
              "0152f69b6cf919bcdaf117aa8c43e5a2                               0.0  \n",
              "054515fd15bc1a2029f10de97ffa9120                               0.0  \n",
              "06c6e01186af8b98ee1fc9e01f9471e9                               0.0  \n",
              "06edb72f1e0c64b14c5b79353f7abea3                               0.0  \n",
              "08574b074924071f4e201e151b152b4e                               0.0  \n",
              "\n",
              "[5 rows x 16474 columns]"
            ]
          },
          "execution_count": 43,
          "metadata": {},
          "output_type": "execute_result"
        }
      ],
      "source": [
        "# Cria-se uma matriz (utilizando com 50 mil linhas por motivo de uso computacional)\n",
        "new_df1 = new_df.head(50000)\n",
        "score_matrix = new_df1.pivot_table(values='review_score', index='customer_id', columns='product_id', fill_value=0)\n",
        "score_matrix.head()\n",
        "\n",
        "# Transposta da matriz\n",
        "X = score_matrix.T\n",
        "X.head()"
      ]
    },
    {
      "cell_type": "code",
      "execution_count": 44,
      "metadata": {
        "colab": {
          "base_uri": "https://localhost:8080/"
        },
        "id": "nfrazciMH_zD",
        "outputId": "1d1e9f1d-6b45-422d-f60e-0a1f8cfc4efa"
      },
      "outputs": [
        {
          "data": {
            "text/plain": [
              "(175,)"
            ]
          },
          "execution_count": 44,
          "metadata": {},
          "output_type": "execute_result"
        }
      ],
      "source": [
        "# Redução de dimensionalidade com Truncated SVD\n",
        "SVD_model = TruncatedSVD(n_components=10)\n",
        "decomposed_matrix = SVD_model.fit_transform(X)\n",
        "decomposed_matrix.shape\n",
        "\n",
        "# Matriz de Correlação\n",
        "correlation_matrix = np.corrcoef(decomposed_matrix)\n",
        "correlation_matrix.shape\n",
        "\n",
        "# Indice do produto da matriz transposta (resultante do pivot_table)\n",
        "product_index = 3\n",
        "\n",
        "# Correlação para todos os itens com o item comprado por este cliente, com base em itens avaliados por outras pessoas de clientes que compraram o mesmo produto\n",
        "correlation_product_ID = correlation_matrix[product_index]\n",
        "correlation_product_ID.shape"
      ]
    },
    {
      "cell_type": "code",
      "execution_count": 45,
      "metadata": {
        "colab": {
          "base_uri": "https://localhost:8080/"
        },
        "id": "EpjUJZPVIAyz",
        "outputId": "26a6981d-7291-4f46-abc5-27a4528de248"
      },
      "outputs": [
        {
          "data": {
            "text/plain": [
              "['165f86fe8b799a708a20ee4ba125c289',\n",
              " '24c66f106f642621e524291a895c9032',\n",
              " '25f86162fee18735fffdb762dcb10d7c']"
            ]
          },
          "execution_count": 45,
          "metadata": {},
          "output_type": "execute_result"
        }
      ],
      "source": [
        "# Filtro pelos registros com correlação maior que 0.7 (indicando alta correlação entre os produtos)\n",
        "rocommended_products = list(X.index[correlation_product_ID > 0.7])\n",
        "\n",
        "# Remove o item já comprado pelo cliente\n",
        "rocommended_products.remove(X[product_index:product_index + 1].index[0])\n",
        "\n",
        "# Top 3 produtos similares ao produto 06c6e01186af8b98ee1fc9e01f9471e9 recomendados para esse cliente\n",
        "rocommended_products[0:3]\n"
      ]
    }
  ],
  "metadata": {
    "colab": {
      "collapsed_sections": [
        "ofUT2QwaNVIK"
      ],
      "name": "Day9.ipynb",
      "provenance": []
    },
    "kernelspec": {
      "display_name": "Python 3",
      "name": "python3"
    },
    "language_info": {
      "codemirror_mode": {
        "name": "ipython",
        "version": 3
      },
      "file_extension": ".py",
      "mimetype": "text/x-python",
      "name": "python",
      "nbconvert_exporter": "python",
      "pygments_lexer": "ipython3",
      "version": "3.8.10"
    }
  },
  "nbformat": 4,
  "nbformat_minor": 0
}
